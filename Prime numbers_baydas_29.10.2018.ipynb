{
 "cells": [
  {
   "cell_type": "code",
   "execution_count": 5,
   "metadata": {},
   "outputs": [
    {
     "name": "stdout",
     "output_type": "stream",
     "text": [
      "Please enter a positive number:1\n",
      "Please enter a positive number:2\n",
      "Please enter a positive number:3\n",
      "Please enter a positive number:4\n",
      "Please enter a positive number:5\n",
      "Please enter a positive number:6\n",
      "Please enter a positive number:7\n",
      "Please enter a positive number:0\n",
      "The process has been terminated because you entered zero!\n",
      "2 3 5 7\n"
     ]
    }
   ],
   "source": [
    "counter = 0\n",
    "number_list = []\n",
    "\n",
    "def prime_number (control_1) :\n",
    "\n",
    "    if control_1 == 1 :\n",
    "        return False\n",
    "    \n",
    "    elif control_1 == 2 or control_1 == 3 :\n",
    "        return True\n",
    "    \n",
    "    else :\n",
    "        for control_2 in range(2, control_1 // 2 + 1) :\n",
    "            if control_1 % control_2 == 0 :\n",
    "                return False\n",
    "        return True                           \n",
    "\n",
    "    \n",
    "while True :\n",
    "    \n",
    "    while True :\n",
    "        try :\n",
    "            number = int(input(\"Please enter a positive number:\"))\n",
    "            break\n",
    "        except :\n",
    "            print (\"Only numbers please!!!\")\n",
    "            \n",
    "    if number == 0 :\n",
    "        print (\"The process has been terminated because you entered zero!\")\n",
    "        break\n",
    "        \n",
    "    number_list.append(number)\n",
    "    \n",
    "    counter += 1\n",
    "    if counter == 20 :\n",
    "        print (\"The total number of entries reached 20 and the process was terminated!\")\n",
    "        break\n",
    "    \n",
    "\n",
    "result = [ num   for num in number_list   if prime_number (num) == True ]\n",
    "print (*result)"
   ]
  }
 ],
 "metadata": {
  "kernelspec": {
   "display_name": "Python 3",
   "language": "python",
   "name": "python3"
  },
  "language_info": {
   "codemirror_mode": {
    "name": "ipython",
    "version": 3
   },
   "file_extension": ".py",
   "mimetype": "text/x-python",
   "name": "python",
   "nbconvert_exporter": "python",
   "pygments_lexer": "ipython3",
   "version": "3.7.0"
  }
 },
 "nbformat": 4,
 "nbformat_minor": 2
}
